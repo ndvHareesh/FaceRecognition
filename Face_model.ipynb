{
 "cells": [
  {
   "cell_type": "code",
   "execution_count": 1,
   "id": "08b3ade2",
   "metadata": {},
   "outputs": [],
   "source": [
    "#imports\n",
    "import joblib\n",
    "import cv2\n",
    "import numpy as np"
   ]
  },
  {
   "cell_type": "code",
   "execution_count": 2,
   "id": "a8d8670c",
   "metadata": {},
   "outputs": [],
   "source": [
    "model=joblib.load('Face_joblib')"
   ]
  },
  {
   "cell_type": "code",
   "execution_count": 3,
   "id": "09adc5fa",
   "metadata": {},
   "outputs": [],
   "source": [
    "face_classifier=cv2.CascadeClassifier('haarcascade_frontalface_default.xml')\n",
    "eye_classifier=cv2.CascadeClassifier('haarcascade_eye.xml')"
   ]
  },
  {
   "cell_type": "code",
   "execution_count": 4,
   "id": "55b8e8e5",
   "metadata": {},
   "outputs": [],
   "source": [
    "def get_cropped_image_if_2_eyes(image_path):\n",
    "    img = cv2.imread(image_path)\n",
    "    gray = cv2.cvtColor(img, cv2.COLOR_BGR2GRAY)\n",
    "    faces = face_classifier.detectMultiScale(gray, 1.3, 5)\n",
    "    for (x,y,w,h) in faces:\n",
    "        roi_gray = gray[y:y+h, x:x+w]\n",
    "        roi_color = img[y:y+h, x:x+w]\n",
    "        eyes = eye_classifier.detectMultiScale(roi_gray)\n",
    "        if len(eyes) >= 2:\n",
    "            return roi_color"
   ]
  },
  {
   "cell_type": "code",
   "execution_count": 5,
   "id": "144d7ed3",
   "metadata": {},
   "outputs": [],
   "source": [
    "\n",
    "import pywt\n",
    "def w2d(img, mode='haar', level=5):\n",
    "    imArr = img\n",
    "    #convert to grayscale\n",
    "    imArr = cv2.cvtColor( imArr,cv2.COLOR_BGR2GRAY )\n",
    "    #convert to float\n",
    "    imArr =  np.float32(imArr)   \n",
    "    imArr /= 255;\n",
    "    # compute coefficients \n",
    "    coeffs=pywt.wavedec2(imArr, mode, level=level)\n",
    "    #Process Coefficients to get features from image\n",
    "    coeffs_H=list(coeffs) \n",
    "    coeffs_H[0] *= 0;\n",
    "    \n",
    "    # reconstruction\n",
    "    imArr_H=pywt.waverec2(coeffs_H, mode);\n",
    "    imArr_H *= 255;\n",
    "    imArr_H =  np.uint8(imArr_H)\n",
    "\n",
    "    return imArr_H\n",
    "\n"
   ]
  },
  {
   "cell_type": "code",
   "execution_count": 6,
   "id": "da5bfe16",
   "metadata": {},
   "outputs": [
    {
     "data": {
      "text/plain": [
       "{'Milan': 0, 'Aditya': 1, 'lionel_messi': 2, 'Bhargav': 3, 'Hareesh': 4}"
      ]
     },
     "execution_count": 6,
     "metadata": {},
     "output_type": "execute_result"
    }
   ],
   "source": [
    "class_dict={'Milan': 0, 'Aditya': 1, 'lionel_messi': 2, 'Bhargav': 3, 'Hareesh': 4}\n",
    "class_dict"
   ]
  },
  {
   "cell_type": "code",
   "execution_count": 7,
   "id": "4e7c3f61",
   "metadata": {},
   "outputs": [],
   "source": [
    "cap = cv2.VideoCapture(0) #webcam\n",
    "\n",
    "while True:\n",
    "    ret,frame = cap.read()\n",
    "    if ret == False:\n",
    "        continue\n",
    "    faces = face_classifier.detectMultiScale(frame,1.3,5)\n",
    "    if(len(faces)==0):\n",
    "        continue\n",
    "    for face in faces:\n",
    "        x,y,w,h = face\n",
    "        #Get the face ROI and preprocessing on Live image\n",
    "        offset = 10\n",
    "        face_section = frame[y-offset:y+h+offset,x-offset:x+w+offset]\n",
    "        face_section = cv2.resize(face_section,(32,32))\n",
    "        img_har_live =w2d(face_section,'haar',5)\n",
    "        scalled_img_har_live = cv2.resize(img_har_live, (32, 32))\n",
    "        combined_img_live = np.vstack((face_section.reshape(32*32*3,1),scalled_img_har_live.reshape(32*32,1)))\n",
    "        X_live=[]\n",
    "        X_live.append(combined_img_live)\n",
    "        X_live=np.array(X_live).reshape(len(X_live),4096).astype(float)\n",
    "        X_live\n",
    "        #prediction on live image\n",
    "        m_live=model.predict(X_live)\n",
    "        m_problive=model.predict_proba(X_live)\n",
    "        Pred_prob_live=round(m_problive.max()*100,2)\n",
    "        Pred_prob_live_string = str(Pred_prob_live)\n",
    "        Pred_value_live=m_live[0]\n",
    "        for Name_live in class_dict.keys(): \n",
    "            if(class_dict.get(Name_live)==Pred_value_live):\n",
    "                Pred_Name_live=Name_live\n",
    "        #placing prediction name, probability on live webfeed\n",
    "        cv2.putText(frame,Pred_Name_live,(x,y-10),cv2.FONT_ITALIC,1,(255,255,0),2,cv2.LINE_AA)\n",
    "        cv2.putText(frame,Pred_prob_live_string,(x,y-30),cv2.FONT_ITALIC,1,(255,255,0),2,cv2.LINE_AA)\n",
    "        cv2.rectangle(frame,(x,y),(x+w,y+h),(0,255,255),2)\n",
    "\n",
    "    cv2.imshow(\"Faces\",frame)\n",
    "    if cv2.waitKey(1) & 0xFF ==ord('q'):\n",
    "        break\n",
    "cap.release()\n",
    "cv2.destroyAllWindows()"
   ]
  },
  {
   "cell_type": "markdown",
   "id": "c4244791",
   "metadata": {},
   "source": [
    "END"
   ]
  }
 ],
 "metadata": {
  "kernelspec": {
   "display_name": "Python 3 (ipykernel)",
   "language": "python",
   "name": "python3"
  },
  "language_info": {
   "codemirror_mode": {
    "name": "ipython",
    "version": 3
   },
   "file_extension": ".py",
   "mimetype": "text/x-python",
   "name": "python",
   "nbconvert_exporter": "python",
   "pygments_lexer": "ipython3",
   "version": "3.8.8"
  }
 },
 "nbformat": 4,
 "nbformat_minor": 5
}
